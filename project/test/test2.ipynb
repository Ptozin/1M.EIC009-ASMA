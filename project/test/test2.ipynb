{
 "cells": [
  {
   "cell_type": "code",
   "execution_count": 1,
   "metadata": {},
   "outputs": [
    {
     "data": {
      "text/plain": [
       "{'latitude': 18.99426579674206, 'longitude': 72.82574077538436}"
      ]
     },
     "metadata": {},
     "output_type": "display_data"
    },
    {
     "data": {
      "text/plain": [
       "20"
      ]
     },
     "metadata": {},
     "output_type": "display_data"
    },
    {
     "data": {
      "text/plain": [
       "{'latitude': 18.994294593486547, 'longitude': 72.82592855078455}"
      ]
     },
     "metadata": {},
     "output_type": "display_data"
    },
    {
     "data": {
      "text/plain": [
       "20"
      ]
     },
     "metadata": {},
     "output_type": "display_data"
    }
   ],
   "source": [
    "from math import radians, cos, sin, asin, sqrt\n",
    "\n",
    "EARTH_RADIUS = 6_371 # Radius of earth in kilometers.\n",
    "\n",
    "def haversine_distance(lat1 : float , lon1 : float, lat2 : float, lon2 : float, unit : str = \"m\") -> float:\n",
    "    \"\"\"\n",
    "    Args:\n",
    "        lat1 (float): Latitude of the first point.\n",
    "        lon1 (float): lonitude of the first point.\n",
    "        lat2 (float): Latitude of the second point.\n",
    "        lon2 (float): lonitude of the second point.\n",
    "        unit (str, optional): Unit of the distance. Can be \"km\" or \"m\". Defaults to \"m\".\n",
    "\n",
    "    Returns:\n",
    "        float: Distance between the two points in the specified unit.\n",
    "    \"\"\"\n",
    "    R = EARTH_RADIUS if unit == \"km\" else EARTH_RADIUS * 1_000\n",
    "\n",
    "    dLat = radians(lat2 - lat1)\n",
    "    dLon = radians(lon2 - lon1)\n",
    "    lat1 = radians(lat1)\n",
    "    lat2 = radians(lat2)\n",
    "\n",
    "    a = sin(dLat/2)**2 + cos(lat1)*cos(lat2)*sin(dLon/2)**2\n",
    "    c = 2*asin(sqrt(a))\n",
    "    \n",
    "    return R * c\n",
    "\n",
    "def next_position(curr_lat, curr_lon, target_lat, target_lon, velocity):\n",
    "    distance = haversine_distance(curr_lat, curr_lon, target_lat, target_lon)\n",
    "    if distance == 0.0:\n",
    "        return {\n",
    "            \"latitude\": target_lat,\n",
    "            \"longitude\": target_lon\n",
    "        }, distance\n",
    "        \n",
    "    distance_covered = velocity if distance > velocity else distance\n",
    "    \n",
    "    fraction = min(velocity / distance, 1.0)\n",
    "    \n",
    "    new_lat = curr_lat + fraction * (target_lat - curr_lat)\n",
    "    new_lon = curr_lon + fraction * (target_lon - curr_lon)\n",
    "    return {\n",
    "        \"latitude\": new_lat,\n",
    "        \"longitude\": new_lon\n",
    "    }, distance_covered\n",
    "    \n",
    "\n",
    "coords, distance = next_position(18.994237, 72.825553, 19.007584, 72.912585, 20)\n",
    "\n",
    "display(coords, distance)\n",
    "\n",
    "new_coords, distance = next_position(coords[\"latitude\"], coords[\"longitude\"], 19.007584, 72.912585, 20)\n",
    "\n",
    "display(new_coords, distance)"
   ]
  }
 ],
 "metadata": {
  "kernelspec": {
   "display_name": ".venv",
   "language": "python",
   "name": "python3"
  },
  "language_info": {
   "codemirror_mode": {
    "name": "ipython",
    "version": 3
   },
   "file_extension": ".py",
   "mimetype": "text/x-python",
   "name": "python",
   "nbconvert_exporter": "python",
   "pygments_lexer": "ipython3",
   "version": "3.10.10"
  }
 },
 "nbformat": 4,
 "nbformat_minor": 2
}
